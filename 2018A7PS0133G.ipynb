{
 "cells": [
  {
   "cell_type": "code",
   "execution_count": 26,
   "source": [
    "from CNF_Creator import *"
   ],
   "outputs": [],
   "metadata": {}
  },
  {
   "cell_type": "code",
   "execution_count": 27,
   "source": [
    "import numpy as np"
   ],
   "outputs": [],
   "metadata": {}
  },
  {
   "cell_type": "code",
   "execution_count": 2,
   "source": [
    "cnfc = CNF_Creator(n=50)\r\n",
    "# sentence = cnfc.ReadCNFfromCSVfile()\r\n",
    "sentence = cnfc.CreateRandomSentence(m=120)\r\n",
    "print(type(sentence))\r\n",
    "print('Random sentence : ',sentence)"
   ],
   "outputs": [
    {
     "output_type": "stream",
     "name": "stdout",
     "text": [
      "<class 'list'>\n",
      "Random sentence :  [[-50, -41, -9], [-50, -41, 8], [-49, -38, -6], [-49, -37, -10], [-49, -29, -8], [-49, 10, 40], [-48, -38, 12], [-48, -18, 23], [-48, 35, 45], [-47, -27, 39], [-47, -13, -11], [-46, -38, -25], [-46, -15, 22], [-46, 35, 42], [-46, 45, 47], [-45, -43, 33], [-45, -33, 9], [-45, -30, 34], [-45, -28, -24], [-45, -25, 36], [-44, -38, 24], [-44, -31, -10], [-44, -21, 27], [-44, 6, 17], [-44, 15, 43], [-43, -31, -29], [-43, -12, 38], [-43, -2, 20], [-43, 28, 45], [-42, 1, 36], [-41, -31, -26], [-41, -24, -22], [-41, -20, 13], [-40, -39, 29], [-40, -38, 24], [-40, -30, -28], [-40, -29, 4], [-40, 17, 45], [-40, 20, 37], [-40, 24, 43], [-39, -6, 35], [-39, -2, 40], [-39, 41, 43], [-37, -31, -1], [-37, -14, 17], [-37, 4, 49], [-36, -33, 6], [-36, -33, 7], [-36, -6, 19], [-35, -19, -3], [-35, 25, 49], [-34, -20, -15], [-33, -13, 23], [-33, -5, 16], [-32, -23, 46], [-32, -1, 41], [-32, 33, 34], [-31, -24, 7], [-31, -24, 27], [-31, -17, -12], [-31, 11, 16], [-31, 11, 24], [-31, 15, 20], [-30, -3, -1], [-29, -4, 35], [-29, 2, 19], [-28, 2, 41], [-28, 14, 38], [-28, 37, 42], [-26, -13, 41], [-26, -12, 21], [-26, -3, 18], [-26, 32, 42], [-25, -12, 10], [-25, -11, 32], [-25, 6, 7], [-24, -12, 31], [-23, -17, 21], [-23, -3, 47], [-22, 45, 46], [-21, -4, 20], [-20, 9, 10], [-19, 3, 30], [-19, 22, 23], [-18, 28, 45], [-17, -7, 2], [-16, -11, 35], [-14, -12, 17], [-14, -11, 28], [-14, -8, 6], [-14, 18, 20], [-13, -9, 31], [-13, 15, 28], [-11, -10, 18], [-10, 12, 41], [-8, 13, 41], [-7, 16, 18], [-5, 41, 49], [-4, 19, 31], [-3, 2, 38], [-3, 8, 41], [-3, 23, 45], [-2, 3, 18], [-2, 39, 47], [-1, 20, 34], [1, 2, 23], [1, 18, 19], [3, 35, 40], [4, 26, 38], [8, 16, 49], [11, 38, 40], [12, 30, 48], [13, 18, 27], [14, 26, 31], [15, 27, 49], [17, 45, 48], [18, 22, 42], [23, 42, 47], [28, 39, 46], [34, 35, 37]]\n"
     ]
    }
   ],
   "metadata": {}
  },
  {
   "cell_type": "code",
   "execution_count": null,
   "source": [
    "print(type(sentence[0]))"
   ],
   "outputs": [],
   "metadata": {}
  },
  {
   "cell_type": "code",
   "execution_count": null,
   "source": [
    "print(type(sentence[0][0]))\r\n",
    "print(len(sentence[0]))"
   ],
   "outputs": [],
   "metadata": {}
  },
  {
   "cell_type": "code",
   "execution_count": null,
   "source": [
    "sat = 20\r\n",
    "m = 3\r\n",
    "val = sat/m\r\n",
    "print(val)"
   ],
   "outputs": [],
   "metadata": {}
  },
  {
   "cell_type": "code",
   "execution_count": null,
   "source": [
    "arr = np.array([0,1,2,3,4,5])\r\n",
    "for i in range(len(arr)-1):\r\n",
    "    print(arr[i], end=\", \")\r\n",
    "print(arr[len(arr)-1])"
   ],
   "outputs": [],
   "metadata": {}
  },
  {
   "cell_type": "code",
   "execution_count": null,
   "source": [
    "narr = np.array([[0,1,2],[3,4,5]])\r\n",
    "child = np.array([[6,7,8]])\r\n",
    "print(narr)\r\n",
    "narr = np.append(narr, child, axis=0)\r\n",
    "print(narr)"
   ],
   "outputs": [],
   "metadata": {}
  },
  {
   "cell_type": "code",
   "execution_count": null,
   "source": [
    "arr = np.array([1,2,3,4])\r\n",
    "arr = np.append(arr, 5)\r\n",
    "print(arr)"
   ],
   "outputs": [],
   "metadata": {}
  },
  {
   "cell_type": "code",
   "execution_count": null,
   "source": [
    "arr = np.array([[0,1,2],[3,4,5]])\r\n",
    "child = np.array([6,7,8])\r\n",
    "arr = np.insert(arr, 2 ,child, axis=0)\r\n",
    "print(arr)"
   ],
   "outputs": [],
   "metadata": {}
  },
  {
   "cell_type": "code",
   "execution_count": null,
   "source": [
    "xarr = np.array([0,1,2,3,4,5,6,7,8,9])\r\n",
    "yarr = np.array([10,11,12,13,14,15,16,17,18,19])\r\n",
    "\r\n",
    "n = randint(0,len(xarr)-1)\r\n",
    "print(n)\r\n",
    "o = randint(0,1)\r\n",
    "print(o)\r\n",
    "# append beginning substring of one to ending one of another\r\n",
    "if(o==1):\r\n",
    "    xtemp = xarr[:n]\r\n",
    "    ytemp = yarr[n:]\r\n",
    "    print(type(xtemp))\r\n",
    "else:\r\n",
    "    xtemp = yarr[:n]\r\n",
    "    ytemp = xarr[n:]\r\n",
    "    print(type(xtemp))\r\n",
    "child = np.concatenate((xtemp, ytemp))\r\n",
    "print(child)"
   ],
   "outputs": [],
   "metadata": {}
  },
  {
   "cell_type": "code",
   "execution_count": 2,
   "source": [
    "from random import randint\r\n",
    "from random import sample"
   ],
   "outputs": [],
   "metadata": {}
  },
  {
   "cell_type": "code",
   "execution_count": 2,
   "source": [
    "import threading, os, time"
   ],
   "outputs": [],
   "metadata": {}
  },
  {
   "cell_type": "code",
   "execution_count": 3,
   "source": [
    "theVar = 1\r\n",
    "\r\n",
    "class MyThread ( threading.Thread ):\r\n",
    "\r\n",
    "   def run (self):\r\n",
    "\r\n",
    "      global theVar\r\n",
    "      print (\"This is thread\" + str ( theVar ) + \"speaking.\")\r\n",
    "      print (\"Hello and good bye.\")\r\n",
    "      theVar = theVar + 1\r\n",
    "      if theVar == 4:\r\n",
    "          #sys.exit(1)\r\n",
    "          os._exit(1)\r\n",
    "      print( \"(done)\")\r\n",
    "\r\n",
    "for x in range (7):\r\n",
    "   MyThread().start()"
   ],
   "outputs": [],
   "metadata": {}
  },
  {
   "cell_type": "code",
   "execution_count": 12,
   "source": [
    "n=15\r\n",
    "ones = np.ones(n, dtype=int)\r\n",
    "narr = []\r\n",
    "while len(narr)<10:\r\n",
    "    c = randint(1,n)\r\n",
    "    ind = sample(range(1,n), c)\r\n",
    "    arr = ones.copy()\r\n",
    "    for j in ind:\r\n",
    "        arr[j] = -1\r\n",
    "    uni = True\r\n",
    "    for j in range(len(narr)):\r\n",
    "        if(np.array_equal(narr[j], arr)):\r\n",
    "            uni = False\r\n",
    "            break\r\n",
    "    if(uni==True):\r\n",
    "        narr.append(arr)\r\n",
    "for a in narr:\r\n",
    "    print(a)"
   ],
   "outputs": [
    {
     "output_type": "stream",
     "name": "stdout",
     "text": [
      "[ 1  1  1 -1  1  1 -1  1  1  1 -1  1  1 -1  1]\n",
      "[ 1  1  1  1  1  1  1  1  1  1  1 -1  1  1  1]\n",
      "[ 1  1  1  1  1 -1  1 -1  1  1  1  1  1  1  1]\n",
      "[ 1  1 -1  1 -1 -1 -1 -1  1 -1 -1  1 -1  1 -1]\n",
      "[ 1  1 -1 -1 -1  1 -1 -1  1  1  1  1 -1  1  1]\n",
      "[ 1  1  1 -1  1  1  1  1  1  1  1  1  1 -1  1]\n",
      "[ 1  1  1  1  1  1  1  1  1  1  1  1  1 -1  1]\n",
      "[ 1  1  1  1 -1  1  1 -1  1  1 -1 -1  1  1  1]\n",
      "[ 1 -1  1  1  1  1  1  1  1  1  1  1  1  1 -1]\n",
      "[ 1 -1 -1 -1 -1 -1  1  1 -1 -1 -1 -1 -1 -1 -1]\n"
     ]
    }
   ],
   "metadata": {}
  },
  {
   "cell_type": "code",
   "execution_count": 34,
   "source": [
    "def fitness_func(sentence, model):\r\n",
    "    sat = 0\r\n",
    "    m = len(sentence)\r\n",
    "    print(m)\r\n",
    "    for i in range(m):\r\n",
    "        for j in range(3):\r\n",
    "            if sentence[i][j] == model[(abs(sentence[i][j]))-1]:\r\n",
    "                sat += 1\r\n",
    "                break\r\n",
    "    val = (sat/m)*100\r\n",
    "    return val"
   ],
   "outputs": [],
   "metadata": {}
  },
  {
   "cell_type": "code",
   "execution_count": 35,
   "source": [
    "cnfc = CNF_Creator(n=50)\r\n",
    "tempsent = cnfc.ReadCNFfromCSVfile()\r\n",
    "tempmod = np.array([1, -2, -3, -4, 5, -6, 7, -8, -9, -10, -11, -12, -13, -14, -15, 16, 17, 18, -19, -20, 21, 22, 23, 24, -25, 26, 27, -28, 29, -30, -31, 32, -33, 34, -35, 36, -37, -38, 39, 40, 41, 42, 43, 44, -45, -46, -47, -48, 49, 50])\r\n",
    "\r\n",
    "val = fitness_func(sentence = tempsent, model=tempmod)\r\n",
    "print(val)"
   ],
   "outputs": [
    {
     "output_type": "stream",
     "name": "stdout",
     "text": [
      "200\n",
      "86.5\n"
     ]
    }
   ],
   "metadata": {}
  },
  {
   "cell_type": "code",
   "execution_count": 37,
   "source": [
    "def mutate(child):\r\n",
    "    ind = randint(0,len(child)-1)\r\n",
    "    child[ind]*=-1\r\n",
    "    return child"
   ],
   "outputs": [],
   "metadata": {}
  },
  {
   "cell_type": "code",
   "execution_count": 36,
   "source": [
    "def reproduce(xarr, yarr):\r\n",
    "    n = randint(0,len(xarr)-1)\r\n",
    "    o = randint(0,1)\r\n",
    "    # append beginning substring of one to ending one of another\r\n",
    "    if(o==1):\r\n",
    "        xtemp = xarr[:n]\r\n",
    "        ytemp = yarr[n:]\r\n",
    "    else:\r\n",
    "        xtemp = yarr[:n]\r\n",
    "        ytemp = xarr[n:]\r\n",
    "    child = np.concatenate((xtemp, ytemp))\r\n",
    "\r\n",
    "    # with some random prob (1 in 10), mutate child\r\n",
    "    prob = randint(0,9)\r\n",
    "    if prob==0:\r\n",
    "        child = mutate(child)\r\n",
    "\r\n",
    "    return child"
   ],
   "outputs": [],
   "metadata": {}
  },
  {
   "cell_type": "code",
   "execution_count": 31,
   "source": [
    "def randomGenerate(n):\r\n",
    "    ones = np.ones(n, dtype=int)\r\n",
    "    for i in range(n):\r\n",
    "        ones[i]*=(i+1)\r\n",
    "    narr = []\r\n",
    "    while len(narr)<20:\r\n",
    "        c = randint(0,n)\r\n",
    "        ind = sample(range(n-1), c)\r\n",
    "        arr = ones.copy()\r\n",
    "        for j in ind:\r\n",
    "            arr[j] = -1\r\n",
    "        # append if new one is unique\r\n",
    "        uni = True\r\n",
    "        for j in range(len(narr)):\r\n",
    "            if(np.array_equal(narr[j], arr)):\r\n",
    "                uni = False\r\n",
    "                break\r\n",
    "        if(uni==True):\r\n",
    "            narr.append(arr)\r\n",
    "    return narr"
   ],
   "outputs": [],
   "metadata": {}
  },
  {
   "cell_type": "code",
   "execution_count": 38,
   "source": [
    "def gen_algo_basic(sentence):\r\n",
    "    narr = []\r\n",
    "    opt_sol = np.empty(50, dtype = int)\r\n",
    "    fitness = np.empty(50, dtype = float)\r\n",
    "    stagfact = 0\r\n",
    "    # TODO: generate first 20 different random states in narr\r\n",
    "    narr = randomGenerate(50)\r\n",
    "    n=0 # number of iterations. To be used in code to check stagnation\r\n",
    "    while True:\r\n",
    "        # newnarr = np.empty(dtype = int)\r\n",
    "        newnarr = []\r\n",
    "        best_fit = np.empty(50, dtype = int)\r\n",
    "        for i in range(20):\r\n",
    "            # print(i)\r\n",
    "            x = randint(0,len(narr)-1)\r\n",
    "            y = randint(0,len(narr)-1)\r\n",
    "            while y==x:\r\n",
    "                y = randint(0,len(narr)-1)\r\n",
    "            child = reproduce(narr[x],narr[y])\r\n",
    "            # append child to newnarr\r\n",
    "            # temp = len(newnarr)\r\n",
    "            # newnarr = np.insert(newnarr, temp, child, axis=0)\r\n",
    "            newnarr.append(child)\r\n",
    "        narr = newnarr.copy()\r\n",
    "        \r\n",
    "        for i in range(len(narr)):\r\n",
    "            if(fitness_func(sentence, narr[i]) == 100 ):\r\n",
    "                return narr[i]\r\n",
    "            if(fitness_func(sentence, narr[i]) > fitness_func(sentence, best_fit)):\r\n",
    "                best_fit = narr[i].copy()\r\n",
    "        if(fitness_func(sentence, best_fit) > fitness_func(sentence, opt_sol)):\r\n",
    "            opt_sol = best_fit.copy()\r\n",
    "        n+=1\r\n",
    "        n%=50\r\n",
    "        # check if algo has stagnated\r\n",
    "        if fitness_func(sentence, best_fit)-fitness[n] <= 5: #difference in current fitness and fitness 50 iterations ago\r\n",
    "            if stagfact >=50: # stagnant for past 50 iterations (assumed stagnated)\r\n",
    "                break\r\n",
    "            else: # stagnated for a while but not enough to assign stagnated\r\n",
    "                fitness[n] = fitness_func(sentence, best_fit)\r\n",
    "                stagfact += 1\r\n",
    "        else:\r\n",
    "            fitness[n] = fitness_func(sentence, best_fit)\r\n",
    "            stagfact = max(0, stagfact-10) # decrease stagnation factor to give more time to stagnate\r\n",
    "    \r\n",
    "    max_fitness = fitness_func(sentence, opt_sol)\r\n",
    "    for i in range(50):\r\n",
    "        opt_sol[i]*=(i+1)\r\n",
    "    print(opt_sol)\r\n",
    "    print(max_fitness)\r\n",
    "    return opt_sol"
   ],
   "outputs": [],
   "metadata": {}
  },
  {
   "cell_type": "code",
   "execution_count": 39,
   "source": [
    "sentence = cnfc.ReadCNFfromCSVfile()\r\n",
    "arr = gen_algo_basic(sentence)\r\n",
    "print(arr)"
   ],
   "outputs": [
    {
     "output_type": "error",
     "ename": "ValueError",
     "evalue": "Sample larger than population or is negative",
     "traceback": [
      "\u001b[1;31m---------------------------------------------------------------------------\u001b[0m",
      "\u001b[1;31mValueError\u001b[0m                                Traceback (most recent call last)",
      "\u001b[1;32m<ipython-input-39-184a5034a6aa>\u001b[0m in \u001b[0;36m<module>\u001b[1;34m\u001b[0m\n\u001b[0;32m      1\u001b[0m \u001b[0msentence\u001b[0m \u001b[1;33m=\u001b[0m \u001b[0mcnfc\u001b[0m\u001b[1;33m.\u001b[0m\u001b[0mReadCNFfromCSVfile\u001b[0m\u001b[1;33m(\u001b[0m\u001b[1;33m)\u001b[0m\u001b[1;33m\u001b[0m\u001b[1;33m\u001b[0m\u001b[0m\n\u001b[1;32m----> 2\u001b[1;33m \u001b[0marr\u001b[0m \u001b[1;33m=\u001b[0m \u001b[0mgen_algo_basic\u001b[0m\u001b[1;33m(\u001b[0m\u001b[0msentence\u001b[0m\u001b[1;33m)\u001b[0m\u001b[1;33m\u001b[0m\u001b[1;33m\u001b[0m\u001b[0m\n\u001b[0m\u001b[0;32m      3\u001b[0m \u001b[0mprint\u001b[0m\u001b[1;33m(\u001b[0m\u001b[0marr\u001b[0m\u001b[1;33m)\u001b[0m\u001b[1;33m\u001b[0m\u001b[1;33m\u001b[0m\u001b[0m\n",
      "\u001b[1;32m<ipython-input-38-1aadd0f6792d>\u001b[0m in \u001b[0;36mgen_algo_basic\u001b[1;34m(sentence)\u001b[0m\n\u001b[0;32m      5\u001b[0m     \u001b[0mstagfact\u001b[0m \u001b[1;33m=\u001b[0m \u001b[1;36m0\u001b[0m\u001b[1;33m\u001b[0m\u001b[1;33m\u001b[0m\u001b[0m\n\u001b[0;32m      6\u001b[0m     \u001b[1;31m# TODO: generate first 20 different random states in narr\u001b[0m\u001b[1;33m\u001b[0m\u001b[1;33m\u001b[0m\u001b[1;33m\u001b[0m\u001b[0m\n\u001b[1;32m----> 7\u001b[1;33m     \u001b[0mnarr\u001b[0m \u001b[1;33m=\u001b[0m \u001b[0mrandomGenerate\u001b[0m\u001b[1;33m(\u001b[0m\u001b[1;36m50\u001b[0m\u001b[1;33m)\u001b[0m\u001b[1;33m\u001b[0m\u001b[1;33m\u001b[0m\u001b[0m\n\u001b[0m\u001b[0;32m      8\u001b[0m     \u001b[0mn\u001b[0m\u001b[1;33m=\u001b[0m\u001b[1;36m0\u001b[0m \u001b[1;31m# number of iterations. To be used in code to check stagnation\u001b[0m\u001b[1;33m\u001b[0m\u001b[1;33m\u001b[0m\u001b[0m\n\u001b[0;32m      9\u001b[0m     \u001b[1;32mwhile\u001b[0m \u001b[1;32mTrue\u001b[0m\u001b[1;33m:\u001b[0m\u001b[1;33m\u001b[0m\u001b[1;33m\u001b[0m\u001b[0m\n",
      "\u001b[1;32m<ipython-input-31-f48c5e4066f0>\u001b[0m in \u001b[0;36mrandomGenerate\u001b[1;34m(n)\u001b[0m\n\u001b[0;32m      6\u001b[0m     \u001b[1;32mwhile\u001b[0m \u001b[0mlen\u001b[0m\u001b[1;33m(\u001b[0m\u001b[0mnarr\u001b[0m\u001b[1;33m)\u001b[0m\u001b[1;33m<\u001b[0m\u001b[1;36m20\u001b[0m\u001b[1;33m:\u001b[0m\u001b[1;33m\u001b[0m\u001b[1;33m\u001b[0m\u001b[0m\n\u001b[0;32m      7\u001b[0m         \u001b[0mc\u001b[0m \u001b[1;33m=\u001b[0m \u001b[0mrandint\u001b[0m\u001b[1;33m(\u001b[0m\u001b[1;36m0\u001b[0m\u001b[1;33m,\u001b[0m\u001b[0mn\u001b[0m\u001b[1;33m)\u001b[0m\u001b[1;33m\u001b[0m\u001b[1;33m\u001b[0m\u001b[0m\n\u001b[1;32m----> 8\u001b[1;33m         \u001b[0mind\u001b[0m \u001b[1;33m=\u001b[0m \u001b[0msample\u001b[0m\u001b[1;33m(\u001b[0m\u001b[0mrange\u001b[0m\u001b[1;33m(\u001b[0m\u001b[0mn\u001b[0m\u001b[1;33m-\u001b[0m\u001b[1;36m1\u001b[0m\u001b[1;33m)\u001b[0m\u001b[1;33m,\u001b[0m \u001b[0mc\u001b[0m\u001b[1;33m)\u001b[0m\u001b[1;33m\u001b[0m\u001b[1;33m\u001b[0m\u001b[0m\n\u001b[0m\u001b[0;32m      9\u001b[0m         \u001b[0marr\u001b[0m \u001b[1;33m=\u001b[0m \u001b[0mones\u001b[0m\u001b[1;33m.\u001b[0m\u001b[0mcopy\u001b[0m\u001b[1;33m(\u001b[0m\u001b[1;33m)\u001b[0m\u001b[1;33m\u001b[0m\u001b[1;33m\u001b[0m\u001b[0m\n\u001b[0;32m     10\u001b[0m         \u001b[1;32mfor\u001b[0m \u001b[0mj\u001b[0m \u001b[1;32min\u001b[0m \u001b[0mind\u001b[0m\u001b[1;33m:\u001b[0m\u001b[1;33m\u001b[0m\u001b[1;33m\u001b[0m\u001b[0m\n",
      "\u001b[1;32mC:\\Python\\Anaconda2019\\lib\\random.py\u001b[0m in \u001b[0;36msample\u001b[1;34m(self, population, k)\u001b[0m\n\u001b[0;32m    319\u001b[0m         \u001b[0mn\u001b[0m \u001b[1;33m=\u001b[0m \u001b[0mlen\u001b[0m\u001b[1;33m(\u001b[0m\u001b[0mpopulation\u001b[0m\u001b[1;33m)\u001b[0m\u001b[1;33m\u001b[0m\u001b[1;33m\u001b[0m\u001b[0m\n\u001b[0;32m    320\u001b[0m         \u001b[1;32mif\u001b[0m \u001b[1;32mnot\u001b[0m \u001b[1;36m0\u001b[0m \u001b[1;33m<=\u001b[0m \u001b[0mk\u001b[0m \u001b[1;33m<=\u001b[0m \u001b[0mn\u001b[0m\u001b[1;33m:\u001b[0m\u001b[1;33m\u001b[0m\u001b[1;33m\u001b[0m\u001b[0m\n\u001b[1;32m--> 321\u001b[1;33m             \u001b[1;32mraise\u001b[0m \u001b[0mValueError\u001b[0m\u001b[1;33m(\u001b[0m\u001b[1;34m\"Sample larger than population or is negative\"\u001b[0m\u001b[1;33m)\u001b[0m\u001b[1;33m\u001b[0m\u001b[1;33m\u001b[0m\u001b[0m\n\u001b[0m\u001b[0;32m    322\u001b[0m         \u001b[0mresult\u001b[0m \u001b[1;33m=\u001b[0m \u001b[1;33m[\u001b[0m\u001b[1;32mNone\u001b[0m\u001b[1;33m]\u001b[0m \u001b[1;33m*\u001b[0m \u001b[0mk\u001b[0m\u001b[1;33m\u001b[0m\u001b[1;33m\u001b[0m\u001b[0m\n\u001b[0;32m    323\u001b[0m         \u001b[0msetsize\u001b[0m \u001b[1;33m=\u001b[0m \u001b[1;36m21\u001b[0m        \u001b[1;31m# size of a small set minus size of an empty list\u001b[0m\u001b[1;33m\u001b[0m\u001b[1;33m\u001b[0m\u001b[0m\n",
      "\u001b[1;31mValueError\u001b[0m: Sample larger than population or is negative"
     ]
    }
   ],
   "metadata": {}
  },
  {
   "cell_type": "code",
   "execution_count": 16,
   "source": [
    "list1 = range(10)\r\n",
    "print(list1)"
   ],
   "outputs": [
    {
     "output_type": "stream",
     "name": "stdout",
     "text": [
      "range(0, 10)\n"
     ]
    }
   ],
   "metadata": {}
  },
  {
   "cell_type": "code",
   "execution_count": 1,
   "source": [
    "def fitness(arr):\r\n",
    "    n = len(arr)\r\n",
    "    sum=0\r\n",
    "    for i in arr:\r\n",
    "        sum+=i\r\n",
    "    fvalue = sum/n\r\n",
    "    return fvalue"
   ],
   "outputs": [],
   "metadata": {}
  },
  {
   "cell_type": "code",
   "execution_count": 7,
   "source": [
    "arrlist = []\r\n",
    "for i in range(5):\r\n",
    "    temp = sample(range(20), 10)\r\n",
    "    temp = sorted(temp)\r\n",
    "    arr = np.array(temp)\r\n",
    "    arrlist.append(arr)\r\n",
    "    print(arr)\r\n",
    "\r\n",
    "print(type(arrlist[0]))\r\n"
   ],
   "outputs": [
    {
     "output_type": "stream",
     "name": "stdout",
     "text": [
      "[ 2  3  6  9 12 13 14 15 17 18]\n",
      "[ 1  2  3  9 10 11 12 13 15 18]\n",
      "[ 0  1  2  4  9 12 13 14 15 17]\n",
      "[ 0  1  2  3  5 10 11 13 18 19]\n",
      "[ 1  3  5  6  7  9 10 14 16 18]\n",
      "<class 'numpy.ndarray'>\n"
     ]
    }
   ],
   "metadata": {}
  },
  {
   "cell_type": "code",
   "execution_count": 16,
   "source": [
    "sortedlist = sorted(arrlist, key=fitness, reverse=True)\r\n",
    "for i in range(5):\r\n",
    "    print(sortedlist[i], fitness(sortedlist[i]))"
   ],
   "outputs": [
    {
     "output_type": "stream",
     "name": "stdout",
     "text": [
      "[ 2  3  6  9 12 13 14 15 17 18] 10.9\n",
      "[ 1  2  3  9 10 11 12 13 15 18] 9.4\n",
      "[ 1  3  5  6  7  9 10 14 16 18] 8.9\n",
      "[ 0  1  2  4  9 12 13 14 15 17] 8.7\n",
      "[ 0  1  2  3  5 10 11 13 18 19] 8.2\n"
     ]
    }
   ],
   "metadata": {}
  },
  {
   "cell_type": "code",
   "execution_count": 12,
   "source": [
    "trunclist= sortedlist[:3]\r\n",
    "for i in range(len(trunclist)):\r\n",
    "    print(trunclist[i])"
   ],
   "outputs": [
    {
     "output_type": "stream",
     "name": "stdout",
     "text": [
      "[ 2  3  6  9 12 13 14 15 17 18]\n",
      "[ 1  2  3  9 10 11 12 13 15 18]\n",
      "[ 1  3  5  6  7  9 10 14 16 18]\n"
     ]
    }
   ],
   "metadata": {}
  },
  {
   "cell_type": "code",
   "execution_count": 1,
   "source": [
    "import numpy as np\r\n",
    "import time, threading, os"
   ],
   "outputs": [],
   "metadata": {}
  },
  {
   "cell_type": "code",
   "execution_count": 6,
   "source": [
    "testarr = np.array([1,2,3,4,5,6])\r\n",
    "\r\n",
    "def threadfunc():\r\n",
    "    testarr[1] = 45\r\n",
    "    tb = time.perf_counter()\r\n",
    "    time.sleep(5)\r\n",
    "    print(\"sidethread\", testarr)\r\n",
    "    tend = time.perf_counter() - tb\r\n",
    "    print(tend)\r\n",
    "    print(\"sidethread exiting\")\r\n",
    "    # os._exit(2)\r\n",
    "\r\n",
    "def mainfunc():\r\n",
    "    t1 = threading.Thread(target=threadfunc)\r\n",
    "    t1.start()\r\n",
    "    testarr[1] = 34\r\n",
    "    t1.join()\r\n",
    "    print(\"mainthread \", testarr)\r\n",
    "    time.sleep(6)\r\n",
    "    print(\"mainthread exiting\")\r\n",
    "    # os._exit(1)"
   ],
   "outputs": [],
   "metadata": {}
  },
  {
   "cell_type": "code",
   "execution_count": 7,
   "source": [
    "mainfunc()"
   ],
   "outputs": [
    {
     "output_type": "stream",
     "name": "stdout",
     "text": [
      "sidethread [ 1 34  3  4  5  6]\n",
      "5.019032699999997\n",
      "sidethread exiting\n",
      "mainthread  [ 1 34  3  4  5  6]\n",
      "mainthread exiting\n"
     ]
    }
   ],
   "metadata": {}
  },
  {
   "cell_type": "code",
   "execution_count": 2,
   "source": [
    "import multiprocessing as mp"
   ],
   "outputs": [],
   "metadata": {}
  },
  {
   "cell_type": "code",
   "execution_count": 5,
   "source": [
    "result = mp.Array('i', 4)\r\n",
    "for i in range(4):\r\n",
    "    result[i]=i*i\r\n",
    "print(type(result))\r\n",
    "print(result)\r\n",
    "\r\n",
    "newresult = np.array(result)\r\n",
    "print(type(newresult))\r\n",
    "print(newresult)"
   ],
   "outputs": [
    {
     "output_type": "stream",
     "name": "stdout",
     "text": [
      "<class 'multiprocessing.sharedctypes.SynchronizedArray'>\n",
      "<SynchronizedArray wrapper for <multiprocessing.sharedctypes.c_long_Array_4 object at 0x000001743028A0C8>>\n",
      "<class 'numpy.ndarray'>\n",
      "[0 1 4 9]\n"
     ]
    }
   ],
   "metadata": {}
  },
  {
   "cell_type": "code",
   "execution_count": 2,
   "source": [
    "from random import randint, sample\r\n",
    "from numpy.core.fromnumeric import size\r\n",
    "from CNF_Creator import *\r\n",
    "import numpy as np\r\n",
    "# import copy\r\n",
    "import time\r\n",
    "# import sys\r\n",
    "# import os\r\n",
    "# import threading\r\n",
    "from collections import deque\r\n",
    "\r\n",
    "def fitness_func(sentence, model):\r\n",
    "    sat = 0\r\n",
    "    m = len(sentence)\r\n",
    "    for i in range(m):\r\n",
    "        for j in range(3):\r\n",
    "            if sentence[i][j] * model[abs(sentence[i][j])-1] > 0:\r\n",
    "                sat += 1\r\n",
    "                break\r\n",
    "    val = (sat/m)*100\r\n",
    "    return val\r\n",
    "\r\n",
    "def mutate(child):\r\n",
    "    ind = randint(0,len(child)-1)\r\n",
    "    child[ind]*=-1\r\n",
    "    return child\r\n",
    "\r\n",
    "def reproduce(xarr, yarr):\r\n",
    "    n = randint(0,len(xarr)-1)\r\n",
    "    o = randint(0,1)\r\n",
    "    # append beginning substring of one to ending one of another\r\n",
    "    if(o==1):\r\n",
    "        xtemp = xarr[:n]\r\n",
    "        ytemp = yarr[n:]\r\n",
    "    else:\r\n",
    "        xtemp = yarr[:n]\r\n",
    "        ytemp = xarr[n:]\r\n",
    "    child = np.concatenate((xtemp, ytemp))\r\n",
    "\r\n",
    "    # with some random prob (1 in 10), mutate child\r\n",
    "    prob = randint(0,9)\r\n",
    "    if prob==0:\r\n",
    "        child = mutate(child)\r\n",
    "\r\n",
    "    return child\r\n",
    "\r\n",
    "def randomGenerate(n):\r\n",
    "    ones = np.ones(n, dtype=int)\r\n",
    "    narr = []\r\n",
    "    while len(narr)<30:\r\n",
    "        c = randint(0,n)\r\n",
    "        ind = sample(range(n), c)\r\n",
    "        arr = ones.copy()\r\n",
    "        for j in ind:\r\n",
    "            arr[j] = -1\r\n",
    "        # append if new one is unique\r\n",
    "        uni = True\r\n",
    "        for j in range(len(narr)):\r\n",
    "            if(np.array_equal(narr[j], arr)):\r\n",
    "                uni = False\r\n",
    "                break\r\n",
    "        if(uni==True):\r\n",
    "            narr.append(arr)\r\n",
    "    return narr\r\n",
    "\r\n",
    "class basicGA:\r\n",
    "    opt_sol = np.empty(50, dtype = int)\r\n",
    "\r\n",
    "    def gen_algo_basic(self,sentence):\r\n",
    "        narr = []\r\n",
    "        fitness = np.empty(50, dtype = float)\r\n",
    "        stagfact = 0\r\n",
    "        # generate first 20 different random states in narr\r\n",
    "        narr = randomGenerate(50)\r\n",
    "        n=0 # number of iterations. To be used in code to check stagnation\r\n",
    "\r\n",
    "        while True:\r\n",
    "            # newnarr = np.empty(dtype = int)\r\n",
    "            newnarr = []\r\n",
    "            best_fit = np.empty(50, dtype = int)\r\n",
    "            for i in range(50):\r\n",
    "                # print(i)\r\n",
    "                x = randint(0,len(narr)-1)\r\n",
    "                y = randint(0,len(narr)-1)\r\n",
    "                while y==x:\r\n",
    "                    y = randint(0,len(narr)-1)\r\n",
    "                child = reproduce(narr[x],narr[y])\r\n",
    "                # append child to newnarr\r\n",
    "                newnarr.append(child)\r\n",
    "            narr = newnarr.copy()\r\n",
    "            narr = sorted(narr, key = lambda arr: fitness_func(sentence, arr), reverse=True)\r\n",
    "            narr = narr[:30]\r\n",
    "\r\n",
    "            if(fitness_func(sentence, narr[0]) == 100):\r\n",
    "                self.opt_sol = narr[0]\r\n",
    "                return narr[0]\r\n",
    "            if(fitness_func(sentence, narr[0]) > fitness_func(sentence, best_fit)):\r\n",
    "                best_fit = narr[0].copy()\r\n",
    "            \r\n",
    "            # for i in range(len(narr)):\r\n",
    "            #     if(fitness_func(sentence, narr[i]) == 100 ):\r\n",
    "            #         return narr[i]\r\n",
    "            #     if(fitness_func(sentence, narr[i]) > fitness_func(sentence, best_fit)):\r\n",
    "            #         best_fit = narr[i].copy()\r\n",
    "            if(fitness_func(sentence, best_fit) > fitness_func(sentence, self.opt_sol)):\r\n",
    "                self.opt_sol = best_fit.copy()\r\n",
    "            n+=1\r\n",
    "            n%=50\r\n",
    "            # check if algo has stagnated\r\n",
    "            if fitness_func(sentence, best_fit)-fitness[n] <= 5: #difference in current fitness and fitness 50 iterations ago\r\n",
    "                if stagfact >=50: # stagnant for past 50 iterations (assumed stagnated)\r\n",
    "                    break\r\n",
    "                else: # stagnated for a while but not enough to assign stagnated\r\n",
    "                    fitness[n] = fitness_func(sentence, best_fit)\r\n",
    "                    stagfact += 1\r\n",
    "            else:\r\n",
    "                fitness[n] = fitness_func(sentence, best_fit)\r\n",
    "                stagfact = max(0, stagfact-10) # decrease stagnation factor to give more time to stagnate\r\n",
    "        return self.opt_sol"
   ],
   "outputs": [],
   "metadata": {}
  },
  {
   "cell_type": "code",
   "execution_count": 10,
   "source": [
    "cnfC = CNF_Creator(n=50) # n is number of symbols in the 3-CNF sentence\r\n",
    "avg_fitness = {}\r\n",
    "tot_rtime = {}\r\n",
    "for l in range(100, 310, 20):\r\n",
    "    sentence = cnfC.CreateRandomSentence(m=l) # m is number of clauses in the 3-CNF sentence\r\n",
    "    # print('Random sentence of length {}: '.format(l),sentence)\r\n",
    "    print('length = ', l)\r\n",
    "    print()\r\n",
    "    # tstart = time.perf_counter()\r\n",
    "    bga = basicGA()\r\n",
    "    totaltime = 0\r\n",
    "    totalfitness = 0\r\n",
    "    for i in range(10):\r\n",
    "        tbegin = time.perf_counter()\r\n",
    "        sentence = cnfC.CreateRandomSentence(m=l)\r\n",
    "        best_sol = bga.gen_algo_basic(sentence)\r\n",
    "        tend = time.perf_counter() - tbegin\r\n",
    "        totaltime += tend\r\n",
    "        best_fitness = fitness_func(sentence, best_sol)\r\n",
    "        totalfitness += best_fitness\r\n",
    "        for i in range(50):\r\n",
    "                best_sol[i]*=(i+1)\r\n",
    "        # print('Best solution model: ', best_sol)\r\n",
    "        # print()\r\n",
    "        # print('Fitness of model: ', best_fitness)\r\n",
    "        # print('Time taken: ', tend)\r\n",
    "        # print()\r\n",
    "    print('Time taken : ',totaltime)\r\n",
    "    print('Average fitness : ', totalfitness/10)\r\n",
    "    avg_fitness[l] = round(totalfitness/10, 3)\r\n",
    "    tot_rtime[l] = round(totaltime, 3)\r\n",
    "    print()"
   ],
   "outputs": [
    {
     "output_type": "stream",
     "name": "stdout",
     "text": [
      "length =  100\n",
      "\n",
      "Time taken :  3.644404800000075\n",
      "Average fitness :  99.9\n",
      "\n",
      "length =  120\n",
      "\n",
      "Time taken :  6.748722499999985\n",
      "Average fitness :  99.5\n",
      "\n",
      "length =  140\n",
      "\n",
      "Time taken :  9.74083950000022\n",
      "Average fitness :  99.42857142857143\n",
      "\n",
      "length =  160\n",
      "\n",
      "Time taken :  10.944880100000319\n",
      "Average fitness :  98.875\n",
      "\n",
      "length =  180\n",
      "\n",
      "Time taken :  13.028893500000322\n",
      "Average fitness :  98.7777777777778\n",
      "\n",
      "length =  200\n",
      "\n",
      "Time taken :  15.236008099999935\n",
      "Average fitness :  98.4\n",
      "\n",
      "length =  220\n",
      "\n",
      "Time taken :  16.86406430000011\n",
      "Average fitness :  97.81818181818183\n",
      "\n",
      "length =  240\n",
      "\n",
      "Time taken :  18.673193100000162\n",
      "Average fitness :  97.83333333333333\n",
      "\n",
      "length =  260\n",
      "\n",
      "Time taken :  18.57055440000022\n",
      "Average fitness :  97.38461538461539\n",
      "\n",
      "length =  280\n",
      "\n",
      "Time taken :  24.38812450000023\n",
      "Average fitness :  97.14285714285714\n",
      "\n",
      "length =  300\n",
      "\n",
      "Time taken :  24.92263220000018\n",
      "Average fitness :  97.46666666666667\n",
      "\n"
     ]
    }
   ],
   "metadata": {}
  },
  {
   "cell_type": "code",
   "execution_count": 14,
   "source": [
    "# avg_fitness = {}\r\n",
    "# tot_rtime = {}\r\n",
    "# avg_fitness[120] = 99.42\r\n",
    "# tot_rtime[120] = 9.72\r\n",
    "# avg_fitness[160] = 98.44\r\n",
    "# tot_rtime[160] = 17.36\r\n",
    "# avg_fitness[200] = 97.15\r\n",
    "# tot_rtime[200] = 16.18\r\n",
    "# avg_fitness[240] = 97.5\r\n",
    "# tot_rtime[240] = 22.01\r\n",
    "# avg_fitness[280] = 96.75\r\n",
    "# tot_rtime[280] = 24.87\r\n",
    "# avg_fitness[300] = 96.87\r\n",
    "# tot_rtime[300] = 21.57\r\n",
    "# avg_fitness[100] = 99.8\r\n",
    "# tot_rtime[100] = 2.79\r\n",
    "# avg_fitness[300] = 96.7\r\n",
    "# tot_rtime[300] = 17.95\r\n",
    "\r\n",
    "for v in range(100, 310, 20):\r\n",
    "    avg_fitness[v] = round(avg_fitness[v], 2)\r\n",
    "    tot_rtime[v] = round(tot_rtime[v], 2)"
   ],
   "outputs": [],
   "metadata": {}
  },
  {
   "cell_type": "code",
   "execution_count": 15,
   "source": [
    "print(avg_fitness)\r\n",
    "print(tot_rtime)"
   ],
   "outputs": [
    {
     "output_type": "stream",
     "name": "stdout",
     "text": [
      "{100: 99.9, 120: 99.5, 140: 99.43, 160: 98.88, 180: 98.78, 200: 98.4, 220: 97.82, 240: 97.83, 260: 97.39, 280: 97.14, 300: 97.47}\n",
      "{100: 3.64, 120: 6.75, 140: 9.74, 160: 10.95, 180: 13.03, 200: 15.24, 220: 16.86, 240: 18.67, 260: 18.57, 280: 24.39, 300: 24.92}\n"
     ]
    }
   ],
   "metadata": {}
  },
  {
   "cell_type": "code",
   "execution_count": 12,
   "source": [
    "import matplotlib.pyplot as plt"
   ],
   "outputs": [],
   "metadata": {}
  },
  {
   "cell_type": "code",
   "execution_count": 20,
   "source": [
    "clauses = list(avg_fitness.keys())\r\n",
    "fitness_levels = list(avg_fitness.values())\r\n",
    "\r\n",
    "# plt.bar(clauses, fitness_levels)\r\n",
    "# plt.subplot(clauses, fitness_levels)\r\n",
    "plt.plot(clauses, fitness_levels)\r\n",
    "plt.scatter(clauses, fitness_levels)\r\n",
    "plt.xticks(clauses)\r\n",
    "plt.xlabel('Number of clauses')\r\n",
    "plt.ylabel('Fitness of model (clauses satisfied)')\r\n",
    "\r\n",
    "for ind, val in enumerate(fitness_levels):\r\n",
    "    plt.text(x=clauses[ind]-8, y=val-0.20, s=str(val)+ ' %')\r\n",
    "\r\n",
    "plt.subplots_adjust(bottom = 0.2, right = 1.5)\r\n",
    "plt.title('Average fitness of model with respect to length of sentence')\r\n",
    "plt.show()"
   ],
   "outputs": [
    {
     "output_type": "display_data",
     "data": {
      "image/png": "[encoded data removed]",
      "text/plain": [
       "<Figure size 432x288 with 1 Axes>"
      ]
     },
     "metadata": {
      "needs_background": "light"
     }
    }
   ],
   "metadata": {}
  },
  {
   "cell_type": "code",
   "execution_count": 53,
   "source": [
    "for i in tot_rtime:\r\n",
    "    tot_rtime[i]/=10\r\n",
    "    print(tot_rtime[i])"
   ],
   "outputs": [
    {
     "output_type": "stream",
     "name": "stdout",
     "text": [
      "0.9720000000000001\n",
      "1.736\n",
      "1.6179999999999999\n",
      "2.201\n",
      "2.487\n",
      "2.757\n"
     ]
    }
   ],
   "metadata": {}
  },
  {
   "cell_type": "code",
   "execution_count": 54,
   "source": [
    "for i in tot_rtime:\r\n",
    "    tot_rtime[i] = round(tot_rtime[i], 2)\r\n",
    "    print(tot_rtime[i])"
   ],
   "outputs": [
    {
     "output_type": "stream",
     "name": "stdout",
     "text": [
      "0.97\n",
      "1.74\n",
      "1.62\n",
      "2.2\n",
      "2.49\n",
      "2.76\n"
     ]
    }
   ],
   "metadata": {}
  },
  {
   "cell_type": "code",
   "execution_count": 25,
   "source": [
    "clauses = list(tot_rtime.keys())\r\n",
    "time_taken = list(tot_rtime.values())\r\n",
    "\r\n",
    "plt.plot(clauses, time_taken)\r\n",
    "plt.scatter(clauses, time_taken, s=None)\r\n",
    "plt.xlabel('Number of clauses')\r\n",
    "plt.ylabel('Average time taken (seconds)')\r\n",
    "plt.xticks(clauses)\r\n",
    "\r\n",
    "for ind, val in enumerate(time_taken):\r\n",
    "    plt.text(x=clauses[ind]+2, y=val-0.8, s=str(val))\r\n",
    "\r\n",
    "plt.subplots_adjust(bottom = 0.3, right = 1.5)\r\n",
    "plt.title('Average time taken to obtain model with respect to length of sentence')\r\n",
    "plt.show()"
   ],
   "outputs": [
    {
     "output_type": "display_data",
     "data": {
      "image/png": "[encoded data removed]",
      "text/plain": [
       "<Figure size 432x288 with 1 Axes>"
      ]
     },
     "metadata": {
      "needs_background": "light"
     }
    }
   ],
   "metadata": {}
  },
  {
   "cell_type": "code",
   "execution_count": 81,
   "source": [
    "from random import choice\r\n",
    "\r\n",
    "sentence_length = list(range(100,300,20))\r\n",
    "print(sentence_length)\r\n",
    "l = choice(sentence_length)\r\n",
    "print(type(l))"
   ],
   "outputs": [
    {
     "output_type": "stream",
     "name": "stdout",
     "text": [
      "[100, 120, 140, 160, 180, 200, 220, 240, 260, 280]\n",
      "<class 'int'>\n"
     ]
    }
   ],
   "metadata": {}
  },
  {
   "cell_type": "code",
   "execution_count": null,
   "source": [],
   "outputs": [],
   "metadata": {}
  }
 ],
 "metadata": {
  "orig_nbformat": 4,
  "language_info": {
   "name": "python",
   "version": "3.7.3",
   "mimetype": "text/x-python",
   "codemirror_mode": {
    "name": "ipython",
    "version": 3
   },
   "pygments_lexer": "ipython3",
   "nbconvert_exporter": "python",
   "file_extension": ".py"
  },
  "kernelspec": {
   "name": "python3",
   "display_name": "Python 3.7.3 64-bit ('base': conda)"
  },
  "interpreter": {
   "hash": "133abbd413a08539cb84410b16d3bd8eb8e595d6e32d5a9fb09d7e9dbec879ef"
  }
 },
 "nbformat": 4,
 "nbformat_minor": 2
}