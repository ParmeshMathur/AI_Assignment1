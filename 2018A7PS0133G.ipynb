{
 "cells": [
  {
   "cell_type": "code",
   "execution_count": null,
   "source": [
    "from CNF_Creator import *"
   ],
   "outputs": [],
   "metadata": {}
  },
  {
   "cell_type": "code",
   "execution_count": 1,
   "source": [
    "import numpy as np"
   ],
   "outputs": [],
   "metadata": {}
  },
  {
   "cell_type": "code",
   "execution_count": null,
   "source": [
    "cnfc = CNF_Creator(n=50)\r\n",
    "# sentence = cnfc.ReadCNFfromCSVfile()\r\n",
    "sentence = cnfc.CreateRandomSentence(m=120)\r\n",
    "print(type(sentence))"
   ],
   "outputs": [],
   "metadata": {}
  },
  {
   "cell_type": "code",
   "execution_count": null,
   "source": [
    "print(type(sentence[0]))"
   ],
   "outputs": [],
   "metadata": {}
  },
  {
   "cell_type": "code",
   "execution_count": null,
   "source": [
    "print(type(sentence[0][0]))\r\n",
    "print(len(sentence[0]))"
   ],
   "outputs": [],
   "metadata": {}
  },
  {
   "cell_type": "code",
   "execution_count": null,
   "source": [
    "sat = 20\r\n",
    "m = 3\r\n",
    "val = sat/m\r\n",
    "print(val)"
   ],
   "outputs": [],
   "metadata": {}
  },
  {
   "cell_type": "code",
   "execution_count": null,
   "source": [
    "arr = np.array([0,1,2,3,4,5])\r\n",
    "for i in range(len(arr)-1):\r\n",
    "    print(arr[i], end=\", \")\r\n",
    "print(arr[len(arr)-1])"
   ],
   "outputs": [],
   "metadata": {}
  },
  {
   "cell_type": "code",
   "execution_count": null,
   "source": [
    "narr = np.array([[0,1,2],[3,4,5]])\r\n",
    "child = np.array([[6,7,8]])\r\n",
    "print(narr)\r\n",
    "narr = np.append(narr, child, axis=0)\r\n",
    "print(narr)"
   ],
   "outputs": [],
   "metadata": {}
  },
  {
   "cell_type": "code",
   "execution_count": null,
   "source": [
    "arr = np.array([1,2,3,4])\r\n",
    "arr = np.append(arr, 5)\r\n",
    "print(arr)"
   ],
   "outputs": [],
   "metadata": {}
  },
  {
   "cell_type": "code",
   "execution_count": null,
   "source": [
    "arr = np.array([[0,1,2],[3,4,5]])\r\n",
    "child = np.array([6,7,8])\r\n",
    "arr = np.insert(arr, 2 ,child, axis=0)\r\n",
    "print(arr)"
   ],
   "outputs": [],
   "metadata": {}
  },
  {
   "cell_type": "code",
   "execution_count": null,
   "source": [
    "xarr = np.array([0,1,2,3,4,5,6,7,8,9])\r\n",
    "yarr = np.array([10,11,12,13,14,15,16,17,18,19])\r\n",
    "\r\n",
    "n = randint(0,len(xarr)-1)\r\n",
    "print(n)\r\n",
    "o = randint(0,1)\r\n",
    "print(o)\r\n",
    "# append beginning substring of one to ending one of another\r\n",
    "if(o==1):\r\n",
    "    xtemp = xarr[:n]\r\n",
    "    ytemp = yarr[n:]\r\n",
    "    print(type(xtemp))\r\n",
    "else:\r\n",
    "    xtemp = yarr[:n]\r\n",
    "    ytemp = xarr[n:]\r\n",
    "    print(type(xtemp))\r\n",
    "child = np.concatenate((xtemp, ytemp))\r\n",
    "print(child)"
   ],
   "outputs": [],
   "metadata": {}
  },
  {
   "cell_type": "code",
   "execution_count": 7,
   "source": [
    "from random import randint\r\n",
    "from random import sample"
   ],
   "outputs": [],
   "metadata": {}
  },
  {
   "cell_type": "code",
   "execution_count": 1,
   "source": [
    "import threading, sys, os"
   ],
   "outputs": [],
   "metadata": {}
  },
  {
   "cell_type": "code",
   "execution_count": 3,
   "source": [
    "theVar = 1\r\n",
    "\r\n",
    "class MyThread ( threading.Thread ):\r\n",
    "\r\n",
    "   def run (self):\r\n",
    "\r\n",
    "      global theVar\r\n",
    "      print (\"This is thread\" + str ( theVar ) + \"speaking.\")\r\n",
    "      print (\"Hello and good bye.\")\r\n",
    "      theVar = theVar + 1\r\n",
    "      if theVar == 4:\r\n",
    "          #sys.exit(1)\r\n",
    "          os._exit(1)\r\n",
    "      print( \"(done)\")\r\n",
    "\r\n",
    "for x in range (7):\r\n",
    "   MyThread().start()"
   ],
   "outputs": [],
   "metadata": {}
  },
  {
   "cell_type": "code",
   "execution_count": 12,
   "source": [
    "n=15\r\n",
    "ones = np.ones(n, dtype=int)\r\n",
    "narr = []\r\n",
    "while len(narr)<10:\r\n",
    "    c = randint(1,n)\r\n",
    "    ind = sample(range(1,n), c)\r\n",
    "    arr = ones.copy()\r\n",
    "    for j in ind:\r\n",
    "        arr[j] = -1\r\n",
    "    uni = True\r\n",
    "    for j in range(len(narr)):\r\n",
    "        if(np.array_equal(narr[j], arr)):\r\n",
    "            uni = False\r\n",
    "            break\r\n",
    "    if(uni==True):\r\n",
    "        narr.append(arr)\r\n",
    "for a in narr:\r\n",
    "    print(a)"
   ],
   "outputs": [
    {
     "output_type": "stream",
     "name": "stdout",
     "text": [
      "[ 1  1  1 -1  1  1 -1  1  1  1 -1  1  1 -1  1]\n",
      "[ 1  1  1  1  1  1  1  1  1  1  1 -1  1  1  1]\n",
      "[ 1  1  1  1  1 -1  1 -1  1  1  1  1  1  1  1]\n",
      "[ 1  1 -1  1 -1 -1 -1 -1  1 -1 -1  1 -1  1 -1]\n",
      "[ 1  1 -1 -1 -1  1 -1 -1  1  1  1  1 -1  1  1]\n",
      "[ 1  1  1 -1  1  1  1  1  1  1  1  1  1 -1  1]\n",
      "[ 1  1  1  1  1  1  1  1  1  1  1  1  1 -1  1]\n",
      "[ 1  1  1  1 -1  1  1 -1  1  1 -1 -1  1  1  1]\n",
      "[ 1 -1  1  1  1  1  1  1  1  1  1  1  1  1 -1]\n",
      "[ 1 -1 -1 -1 -1 -1  1  1 -1 -1 -1 -1 -1 -1 -1]\n"
     ]
    }
   ],
   "metadata": {}
  },
  {
   "cell_type": "code",
   "execution_count": null,
   "source": [],
   "outputs": [],
   "metadata": {}
  }
 ],
 "metadata": {
  "orig_nbformat": 4,
  "language_info": {
   "name": "python",
   "version": "3.7.3",
   "mimetype": "text/x-python",
   "codemirror_mode": {
    "name": "ipython",
    "version": 3
   },
   "pygments_lexer": "ipython3",
   "nbconvert_exporter": "python",
   "file_extension": ".py"
  },
  "kernelspec": {
   "name": "python3",
   "display_name": "Python 3.7.3 64-bit ('base': conda)"
  },
  "interpreter": {
   "hash": "133abbd413a08539cb84410b16d3bd8eb8e595d6e32d5a9fb09d7e9dbec879ef"
  }
 },
 "nbformat": 4,
 "nbformat_minor": 2
}